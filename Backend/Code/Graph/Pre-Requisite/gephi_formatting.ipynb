{
 "cells": [
  {
   "cell_type": "code",
   "execution_count": null,
   "metadata": {},
   "outputs": [],
   "source": [
    "def transform_to_gephi_format(df):\n",
    "    # Create nodes sheet\n",
    "    nodes = df[['Module Code', 'Module Name', 'Module Level']].copy()\n",
    "    nodes.columns = ['Id', 'Name', 'Level']\n",
    "    nodes.insert(1, 'Label', nodes['Name'])\n",
    "    nodes = nodes.drop('Name', axis=1)\n",
    "\n",
    "    # Create edges sheet\n",
    "    edges = pd.DataFrame(columns=['Source', 'Target', 'Type', 'Weight'])\n",
    "    for index, row in df.iterrows():\n",
    "        module_code = row['Module Code']\n",
    "        prerequisites = row['Pre-requisites']\n",
    "        if prerequisites != 'NIL':\n",
    "            prerequisites_list = prerequisites.split(\", \")\n",
    "            for prereq in prerequisites_list:\n",
    "                edges = pd.concat([edges, pd.DataFrame({'Source': prereq, 'Target': module_code, 'Type': 'Directed', 'Weight': 1}, index=[0])], ignore_index=True)\n",
    "\n",
    "    return nodes, edges\n",
    "\n",
    "# Call the load_data function to load the data into a pandas DataFrame\n",
    "df = pd.read_csv(\"/Users/micolechan/Desktop/dsa3101/dsa3101-2220-12-ds/Data/university_courses/NTU_course_info.csv\", usecols=['Module Code', 'Module Name', 'Pre-requisites', 'Module Level'])\n",
    "\n",
    "# Transform the data to Gephi format\n",
    "nodes, edges = transform_to_gephi_format(df)\n",
    "\n",
    "# Export nodes and edges to CSV files\n",
    "nodes.to_csv('/Users/micolechan/Desktop/dsa3101/dsa3101-2220-12-ds/Backend/Code/nodes.csv', index=False)\n",
    "edges.to_csv('/Users/micolechan/Desktop/dsa3101/dsa3101-2220-12-ds/Backend/Code/edges.csv', index=False)"
   ]
  }
 ],
 "metadata": {
  "interpreter": {
   "hash": "388bcaf41e3432fc6dd5fbce2e83eae71b1cc1a2efb1b36d40bd4c0c9dd3c24f"
  },
  "kernelspec": {
   "display_name": "Python 3.8.16 ('cs4243')",
   "language": "python",
   "name": "python3"
  },
  "language_info": {
   "name": "python",
   "version": "3.8.16"
  },
  "orig_nbformat": 4
 },
 "nbformat": 4,
 "nbformat_minor": 2
}
