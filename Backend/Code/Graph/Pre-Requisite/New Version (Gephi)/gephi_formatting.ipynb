{
 "cells": [
  {
   "cell_type": "code",
   "execution_count": null,
   "metadata": {},
   "outputs": [],
   "source": [
    "import pandas as pd\n",
    "import os\n"
   ]
  },
  {
   "cell_type": "code",
   "execution_count": null,
   "metadata": {},
   "outputs": [],
   "source": [
    "def transform_to_gephi_format(df):\n",
    "    # Create nodes sheet\n",
    "    nodes = df[['Module Code', 'Module Name', 'Module Level']].copy()\n",
    "    nodes.columns = ['Id', 'Name', 'Level']\n",
    "    nodes.insert(1, 'Label', nodes['Name'])\n",
    "    nodes = nodes.drop('Name', axis=1)\n",
    "\n",
    "    # Create edges sheet\n",
    "    edges = pd.DataFrame(columns=['Source', 'Target', 'Type', 'Weight'])\n",
    "    for index, row in df.iterrows():\n",
    "        module_code = row['Module Code']\n",
    "        prerequisites = row['Pre-requisites']\n",
    "        if prerequisites != 'NIL':\n",
    "            prerequisites_list = prerequisites.split(\", \")\n",
    "            for prereq in prerequisites_list:\n",
    "                edges = pd.concat([edges, pd.DataFrame({'Source': prereq, 'Target': module_code, 'Type': 'Directed', 'Weight': 1}, index=[0])], ignore_index=True)\n",
    "\n",
    "    return nodes, edges\n",
    "\n",
    "# Call the load_data function to load the data into a pandas DataFrame\n",
    "df = pd.read_excel(\"../../Backend/Data/university_courses_graph/NTU_course_info.xlsx\", usecols=['Module Code', 'Module Name', 'Pre-requisites', 'Module Level'])\n",
    "\n",
    "# Transform the data to Gephi format\n",
    "nodes, edges = transform_to_gephi_format(df)\n",
    "\n",
    "#RMB TO CHANGE PATH\n",
    "# Export nodes and edges to CSV files\n",
    "nodes.to_csv('ntu_nodes.csv', index=False)\n",
    "edges.to_csv('ntu_edges.csv', index=False)"
   ]
  },
  {
   "cell_type": "code",
   "execution_count": null,
   "metadata": {},
   "outputs": [],
   "source": [
    "def transform_to_gephi_format(df):\n",
    "    # Create nodes sheet\n",
    "    nodes = df[['Module Code', 'Module Title', 'Module Level']].copy()\n",
    "    nodes.columns = ['Id', 'Name', 'Level']\n",
    "    nodes.insert(1, 'Label', nodes['Name'])\n",
    "    nodes = nodes.drop('Name', axis=1)\n",
    "\n",
    "    # Create edges sheet\n",
    "    edges = pd.DataFrame(columns=['Source', 'Target', 'Type', 'Weight'])\n",
    "    for index, row in df.iterrows():\n",
    "        module_code = row['Module Code']\n",
    "        prerequisites = row['mod_prereq']\n",
    "        if prerequisites != 'NIL':\n",
    "            prerequisites_list = prerequisites.split(\", \")\n",
    "            for prereq in prerequisites_list:\n",
    "                edges = pd.concat([edges, pd.DataFrame({'Source': prereq, 'Target': module_code, 'Type': 'Directed', 'Weight': 1}, index=[0])], ignore_index=True)\n",
    "\n",
    "    return nodes, edges\n",
    "\n",
    "# Call the load_data function to load the data into a pandas DataFrame\n",
    "filepath = r'../../Backend/Data/university_courses_graph/nus_dsa_mods.csv'\n",
    "df = pd.read_csv(filepath, usecols=['Module Code', 'Module Title', 'mod_prereq', 'Module Level'])\n",
    "\n",
    "# Transform the data to Gephi format\n",
    "nodes, edges = transform_to_gephi_format(df)\n",
    "\n",
    "#RMB TO CHANGE PATH\n",
    "# Export nodes and edges to CSV files\n",
    "nodes.to_csv('nus_nodes.csv', index=False)\n",
    "edges.to_csv('nus_edges.csv', index=False)"
   ]
  }
 ],
 "metadata": {
  "interpreter": {
   "hash": "388bcaf41e3432fc6dd5fbce2e83eae71b1cc1a2efb1b36d40bd4c0c9dd3c24f"
  },
  "kernelspec": {
   "display_name": "Python 3 (ipykernel)",
   "language": "python",
   "name": "python3"
  },
  "language_info": {
   "codemirror_mode": {
    "name": "ipython",
    "version": 3
   },
   "file_extension": ".py",
   "mimetype": "text/x-python",
   "name": "python",
   "nbconvert_exporter": "python",
   "pygments_lexer": "ipython3",
   "version": "3.10.4"
  }
 },
 "nbformat": 4,
 "nbformat_minor": 2
}
