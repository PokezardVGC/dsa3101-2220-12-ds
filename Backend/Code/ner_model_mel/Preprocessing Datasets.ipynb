{
 "cells": [
  {
   "cell_type": "code",
   "execution_count": 59,
   "id": "2c4977a8",
   "metadata": {},
   "outputs": [],
   "source": [
    "import os\n",
    "os.environ['KMP_DUPLICATE_LIB_OK'] = 'TRUE' \n",
    "\n",
    "import pandas as pd\n",
    "import spacy\n",
    "from spacy.training import Example\n",
    "import multiprocessing as mp\n",
    "import time\n",
    "\n",
    "# pd.set_option('display.max_rows', None)"
   ]
  },
  {
   "cell_type": "code",
   "execution_count": 60,
   "id": "25402428",
   "metadata": {},
   "outputs": [],
   "source": [
    "start_time = time.time()\n",
    "\n",
    "# import labelled ner train data\n",
    "train_data = pd.read_csv('train.txt', sep='\\t', quoting=3)\n",
    "# train_data = train_data[(train_data['comp_label'] != 'O') & (train_data['word'].str.strip() != '\"')]\n",
    "train_x = train_data['word'].astype(str).str.strip().tolist()\n",
    "train_y = train_data['comp_label'].astype(str).str.strip().tolist()\n",
    "\n",
    "test_data = pd.read_csv('test.txt', sep='\\t', quoting=3)\n",
    "# test_data = test_data[(test_data['comp_label'] != 'O') & (test_data['word'].str.strip() != '\"')]\n",
    "test_x = test_data['word'].astype(str).str.strip().tolist()\n",
    "test_y = train_data['comp_label'].astype(str).str.strip().tolist()"
   ]
  },
  {
   "cell_type": "markdown",
   "id": "653ba37c",
   "metadata": {},
   "source": [
    "Examples created with reference to documentation: https://spacy.io/api/data-formats#dict-input"
   ]
  },
  {
   "cell_type": "code",
   "execution_count": 85,
   "id": "d09d0f35",
   "metadata": {},
   "outputs": [],
   "source": [
    "sentences = []\n",
    "labels = []\n",
    "with open('train.txt') as f:\n",
    "    next(f) # Skip header row\n",
    "    sentence = \"\"\n",
    "    label = []\n",
    "    for i, line in enumerate(f):\n",
    "        if line != \"\\n\":\n",
    "            word, man_label, comp_label = line.split(\"\\t\")\n",
    "            sentence += (word + \" \")\n",
    "            label.append(comp_label.strip()) # Can modify\n",
    "        else:\n",
    "            sentences.append(sentence)\n",
    "            labels.append(label)\n",
    "            sentence = \"\"\n",
    "            label = []"
   ]
  },
  {
   "cell_type": "code",
   "execution_count": 88,
   "id": "70bc2a4a",
   "metadata": {},
   "outputs": [
    {
     "data": {
      "text/plain": [
       "9263"
      ]
     },
     "execution_count": 88,
     "metadata": {},
     "output_type": "execute_result"
    }
   ],
   "source": [
    "len(sentences)"
   ]
  },
  {
   "cell_type": "code",
   "execution_count": null,
   "id": "13324b00",
   "metadata": {},
   "outputs": [],
   "source": []
  },
  {
   "cell_type": "code",
   "execution_count": null,
   "id": "c8cd9ab3",
   "metadata": {},
   "outputs": [],
   "source": []
  },
  {
   "cell_type": "code",
   "execution_count": null,
   "id": "f2f92739",
   "metadata": {},
   "outputs": [],
   "source": []
  },
  {
   "cell_type": "code",
   "execution_count": null,
   "id": "3e2d3fc2",
   "metadata": {},
   "outputs": [],
   "source": []
  },
  {
   "cell_type": "code",
   "execution_count": 62,
   "id": "bf0359ed",
   "metadata": {},
   "outputs": [],
   "source": [
    "# Load the small English language model\n",
    "nlp = spacy.load(\"en_core_web_sm\")"
   ]
  },
  {
   "cell_type": "code",
   "execution_count": 63,
   "id": "c81f8a9b",
   "metadata": {},
   "outputs": [],
   "source": [
    "# Define the function to process a chunk of data\n",
    "def process_chunk(chunk):\n",
    "    examples = []\n",
    "    for text, label in zip(chunk[0], chunk[1]):\n",
    "        examples.append(Example.from_dict(nlp.make_doc(text), {'entities': [(0, len(str(text)), label)]}))\n",
    "    return examples"
   ]
  },
  {
   "cell_type": "code",
   "execution_count": null,
   "id": "96b96cdb",
   "metadata": {},
   "outputs": [],
   "source": []
  },
  {
   "cell_type": "code",
   "execution_count": null,
   "id": "8da7d807",
   "metadata": {},
   "outputs": [],
   "source": []
  },
  {
   "cell_type": "code",
   "execution_count": null,
   "id": "2c447994",
   "metadata": {},
   "outputs": [],
   "source": []
  },
  {
   "cell_type": "code",
   "execution_count": null,
   "id": "a1ba0a0f",
   "metadata": {},
   "outputs": [],
   "source": []
  },
  {
   "cell_type": "code",
   "execution_count": null,
   "id": "10e96377",
   "metadata": {},
   "outputs": [],
   "source": []
  },
  {
   "cell_type": "code",
   "execution_count": null,
   "id": "c52370ef",
   "metadata": {},
   "outputs": [],
   "source": []
  },
  {
   "cell_type": "code",
   "execution_count": null,
   "id": "8d54507f",
   "metadata": {},
   "outputs": [],
   "source": []
  },
  {
   "cell_type": "code",
   "execution_count": null,
   "id": "de3cca74",
   "metadata": {},
   "outputs": [],
   "source": []
  },
  {
   "cell_type": "code",
   "execution_count": null,
   "id": "6287b1ae",
   "metadata": {},
   "outputs": [],
   "source": []
  },
  {
   "cell_type": "code",
   "execution_count": 53,
   "id": "2cef9724",
   "metadata": {},
   "outputs": [
    {
     "name": "stdout",
     "output_type": "stream",
     "text": [
      "Before ()\n",
      "After (London,)\n"
     ]
    }
   ],
   "source": [
    "import numpy\n",
    "import spacy\n",
    "from spacy.attrs import ENT_IOB, ENT_TYPE\n",
    "\n",
    "nlp = spacy.load(\"en_core_web_sm\")\n",
    "doc = nlp.make_doc(\"London is a big city in the United Kingdom.\")\n",
    "print(\"Before\", doc.ents)  # []\n",
    "\n",
    "header = [ENT_IOB, ENT_TYPE]\n",
    "attr_array = numpy.zeros((len(doc), len(header)), dtype=\"uint64\")\n",
    "attr_array[0, 0] = 3  # B\n",
    "attr_array[0, 1] = doc.vocab.strings[\"GPE\"]\n",
    "doc.from_array(header, attr_array)\n",
    "print(\"After\", doc.ents)  # [London]"
   ]
  }
 ],
 "metadata": {
  "kernelspec": {
   "display_name": "Python 3 (ipykernel)",
   "language": "python",
   "name": "python3"
  },
  "language_info": {
   "codemirror_mode": {
    "name": "ipython",
    "version": 3
   },
   "file_extension": ".py",
   "mimetype": "text/x-python",
   "name": "python",
   "nbconvert_exporter": "python",
   "pygments_lexer": "ipython3",
   "version": "3.10.1"
  }
 },
 "nbformat": 4,
 "nbformat_minor": 5
}
