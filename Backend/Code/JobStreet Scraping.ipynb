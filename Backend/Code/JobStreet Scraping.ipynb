{
 "cells": [
  {
   "cell_type": "code",
   "execution_count": 1,
   "id": "22c22289",
   "metadata": {},
   "outputs": [],
   "source": [
    "# !pip install selenium\n",
    "# !pip install webdriver-manager\n",
    "# View your Google Chrome browser version: chrome://settings/help\n",
    "# Download ChromeDriver that corresponds to your Google Chrome browser version: https://sites.google.com/chromium.org/driver/"
   ]
  },
  {
   "cell_type": "markdown",
   "id": "f511dc19",
   "metadata": {},
   "source": [
    "Useful links:\n",
    "https://stackoverflow.com/questions/69875125/find-element-by-commands-are-deprecated-in-selenium"
   ]
  },
  {
   "cell_type": "code",
   "execution_count": 2,
   "id": "551a1ae7",
   "metadata": {},
   "outputs": [],
   "source": [
    "from selenium import webdriver\n",
    "from selenium.webdriver.chrome.service import Service\n",
    "from selenium.webdriver.common.keys import Keys\n",
    "from selenium.webdriver.common.by import By\n",
    "from selenium.webdriver.support.wait import WebDriverWait\n",
    "from selenium.webdriver.support import expected_conditions as EC\n",
    "import time"
   ]
  },
  {
   "cell_type": "code",
   "execution_count": 3,
   "id": "ba1211f7",
   "metadata": {},
   "outputs": [],
   "source": [
    "CHROME_DRIVER_PATH = \"C:/Users/ernes/Downloads/chromedriver_win32/chromedriver.exe\"\n",
    "DATA_WRITE_PATH = \"C:/Users/ernes/Git/dsa3101-2220-12-ds/Backend/Data/jobs/\""
   ]
  },
  {
   "cell_type": "code",
   "execution_count": 4,
   "id": "cc58f5bc",
   "metadata": {},
   "outputs": [],
   "source": [
    "ser = Service(CHROME_DRIVER_PATH)\n",
    "op = webdriver.ChromeOptions()"
   ]
  },
  {
   "cell_type": "markdown",
   "id": "11c82a01",
   "metadata": {},
   "source": [
    "# JobStreet Scraping"
   ]
  },
  {
   "cell_type": "code",
   "execution_count": 5,
   "id": "148aca82",
   "metadata": {},
   "outputs": [],
   "source": [
    "website = \"https://www.jobstreet.com.sg/\"\n",
    "driver = webdriver.Chrome(service=ser, options=op)\n",
    "driver.get(website)"
   ]
  },
  {
   "cell_type": "code",
   "execution_count": 6,
   "id": "9c330cc0",
   "metadata": {},
   "outputs": [],
   "source": [
    "query = '\"data science\"'\n",
    "all_jobs_links = []"
   ]
  },
  {
   "cell_type": "code",
   "execution_count": 7,
   "id": "7079c21e",
   "metadata": {},
   "outputs": [],
   "source": [
    "# Finding search bar\n",
    "search = driver.find_element(By.ID, \"searchKeywordsField\")\n",
    "\n",
    "# Remove all words in search bar\n",
    "search.send_keys(Keys.CONTROL + \"a\")\n",
    "search.send_keys(Keys.DELETE)\n",
    "\n",
    "# Send query\n",
    "search.send_keys(query)\n",
    "search.send_keys(Keys.RETURN)\n",
    "\n",
    "# Waiting for 10 seconds after sending keys to search bar\n",
    "try:\n",
    "    # Finding element by XPATH and class attribute since div class names are dynamic\n",
    "    jobs = WebDriverWait(driver, 10).until(\n",
    "        EC.presence_of_element_located((By.XPATH, \"//*[@data-automation='jobListing']\"))\n",
    "    )\n",
    "    \n",
    "except:\n",
    "    driver.quit()"
   ]
  },
  {
   "cell_type": "code",
   "execution_count": 8,
   "id": "25509faa",
   "metadata": {},
   "outputs": [],
   "source": [
    "next_page_url = []\n",
    "visited = []\n",
    "queue = [driver.current_url]"
   ]
  },
  {
   "cell_type": "code",
   "execution_count": null,
   "id": "e8f5d9bd",
   "metadata": {},
   "outputs": [
    {
     "name": "stdout",
     "output_type": "stream",
     "text": [
      "Visiting https://www.jobstreet.com.sg/%22data-science%22-jobs\n",
      "Visiting https://www.jobstreet.com.sg/%22data-science%22-jobs?pg=2\n",
      "Visiting https://www.jobstreet.com.sg/%22data-science%22-jobs?pg=3\n",
      "Visiting https://www.jobstreet.com.sg/%22data-science%22-jobs?pg=4\n",
      "Visiting https://www.jobstreet.com.sg/%22data-science%22-jobs?pg=5\n",
      "Visiting https://www.jobstreet.com.sg/%22data-science%22-jobs?pg=6\n",
      "Visiting https://www.jobstreet.com.sg/%22data-science%22-jobs?pg=7\n",
      "Visiting https://www.jobstreet.com.sg/%22data-science%22-jobs?pg=8\n",
      "Visiting https://www.jobstreet.com.sg/%22data-science%22-jobs?pg=9\n",
      "Visiting https://www.jobstreet.com.sg/%22data-science%22-jobs?pg=10\n",
      "Visiting https://www.jobstreet.com.sg/%22data-science%22-jobs?pg=11\n",
      "Visiting https://www.jobstreet.com.sg/%22data-science%22-jobs?pg=12\n",
      "Visiting https://www.jobstreet.com.sg/%22data-science%22-jobs?pg=13\n",
      "Visiting https://www.jobstreet.com.sg/%22data-science%22-jobs?pg=14\n",
      "Visiting https://www.jobstreet.com.sg/%22data-science%22-jobs?pg=15\n",
      "Visiting https://www.jobstreet.com.sg/%22data-science%22-jobs?pg=16\n",
      "Visiting https://www.jobstreet.com.sg/%22data-science%22-jobs?pg=17\n",
      "Visiting https://www.jobstreet.com.sg/%22data-science%22-jobs?pg=18\n",
      "Visiting https://www.jobstreet.com.sg/%22data-science%22-jobs?pg=19\n",
      "Visiting https://www.jobstreet.com.sg/%22data-science%22-jobs?pg=20\n",
      "Visiting https://www.jobstreet.com.sg/%22data-science%22-jobs?pg=21\n",
      "Visiting https://www.jobstreet.com.sg/%22data-science%22-jobs?pg=22\n",
      "Visiting https://www.jobstreet.com.sg/%22data-science%22-jobs?pg=23\n",
      "Visiting https://www.jobstreet.com.sg/%22data-science%22-jobs?pg=24\n",
      "Visiting https://www.jobstreet.com.sg/%22data-science%22-jobs?pg=25\n",
      "Visiting https://www.jobstreet.com.sg/%22data-science%22-jobs?pg=26\n",
      "Visiting https://www.jobstreet.com.sg/%22data-science%22-jobs?pg=27\n",
      "Visiting https://www.jobstreet.com.sg/%22data-science%22-jobs?pg=28\n",
      "Visiting https://www.jobstreet.com.sg/%22data-science%22-jobs?pg=29\n",
      "Visiting https://www.jobstreet.com.sg/%22data-science%22-jobs?pg=30\n",
      "Visiting https://www.jobstreet.com.sg/%22data-science%22-jobs?pg=31\n",
      "Visiting https://www.jobstreet.com.sg/%22data-science%22-jobs?pg=32\n",
      "Visiting https://www.jobstreet.com.sg/%22data-science%22-jobs?pg=33\n",
      "Visiting https://www.jobstreet.com.sg/%22data-science%22-jobs?pg=34\n",
      "Visiting https://www.jobstreet.com.sg/%22data-science%22-jobs?pg=35\n",
      "Visiting https://www.jobstreet.com.sg/%22data-science%22-jobs?pg=36\n",
      "Visiting https://www.jobstreet.com.sg/%22data-science%22-jobs?pg=37\n",
      "Visiting https://www.jobstreet.com.sg/%22data-science%22-jobs?pg=38\n",
      "Visiting https://www.jobstreet.com.sg/%22data-science%22-jobs?pg=39\n",
      "Visiting https://www.jobstreet.com.sg/%22data-science%22-jobs?pg=40\n",
      "Visiting https://www.jobstreet.com.sg/%22data-science%22-jobs?pg=41\n",
      "Visiting https://www.jobstreet.com.sg/%22data-science%22-jobs?pg=42\n",
      "Visiting https://www.jobstreet.com.sg/%22data-science%22-jobs?pg=43\n",
      "Visiting https://www.jobstreet.com.sg/%22data-science%22-jobs?pg=44\n",
      "Visiting https://www.jobstreet.com.sg/%22data-science%22-jobs?pg=45\n",
      "Visiting https://www.jobstreet.com.sg/%22data-science%22-jobs?pg=46\n",
      "Visiting https://www.jobstreet.com.sg/%22data-science%22-jobs?pg=47\n",
      "Visiting https://www.jobstreet.com.sg/%22data-science%22-jobs?pg=48\n",
      "Visiting https://www.jobstreet.com.sg/%22data-science%22-jobs?pg=49\n",
      "Visiting https://www.jobstreet.com.sg/%22data-science%22-jobs?pg=50\n",
      "Visiting https://www.jobstreet.com.sg/%22data-science%22-jobs?pg=51\n"
     ]
    }
   ],
   "source": [
    "start_time = time.time()\n",
    "while len(queue) > 0: # REVISE\n",
    "    \n",
    "    # Visiting all pages\n",
    "    \n",
    "    # Dequeue next URL\n",
    "    next_url = queue[-1]\n",
    "    queue = queue[:-1]\n",
    "    visited.append(next_url)\n",
    "    print(f\"Visiting {next_url}\")\n",
    "    driver.get(next_url)\n",
    "    \n",
    "    # Waiting for 10 seconds after sending keys to search bar\n",
    "    try:\n",
    "        # Finding element by XPATH and class attribute since div class names are dynamic\n",
    "        jobs = WebDriverWait(driver, 10).until(\n",
    "            EC.presence_of_element_located((By.XPATH, \"//*[@data-automation='jobListing']\"))\n",
    "        )\n",
    "        \n",
    "        # Getting the job postings on the page\n",
    "        jobs_list = jobs.find_elements(By.XPATH, \"./*\")[:-2] # The last two results are invalid\n",
    "\n",
    "        # Getting the links for each job posting\n",
    "        jobs_links_found = [job.find_element(By.TAG_NAME, \"h1\").find_element(By.XPATH, \"a[@href]\").get_attribute(\"href\") for job in jobs_list]\n",
    "        all_jobs_links.extend(jobs_links_found)\n",
    "        \n",
    "    except:\n",
    "        print(f\"FAILED: {next_url}\")\n",
    "        driver.quit()\n",
    "    \n",
    "    # Finding new URLs\n",
    "    next_page_url = [page.get_attribute(\"href\") for page in driver.find_element(By.XPATH, \"//*[@data-automation='pagination']\").find_elements(By.XPATH, \"a[@href]\")]\n",
    "    for url in next_page_url:\n",
    "        if url not in visited:\n",
    "            queue.append(url)\n",
    "            \n",
    "print(f\"Job completed in {round(time.time() - start_time)} seconds\")"
   ]
  },
  {
   "cell_type": "code",
   "execution_count": null,
   "id": "bff3df43",
   "metadata": {},
   "outputs": [],
   "source": [
    "driver.quit()"
   ]
  },
  {
   "cell_type": "code",
   "execution_count": null,
   "id": "b8b2fdd1",
   "metadata": {},
   "outputs": [],
   "source": [
    "print(f\"{len(all_jobs_links)} job sites found\")\n",
    "print(all_jobs_links[:5])"
   ]
  },
  {
   "cell_type": "code",
   "execution_count": null,
   "id": "0705b14a",
   "metadata": {},
   "outputs": [],
   "source": [
    "with open(DATA_WRITE_PATH + 'jobstreet_job_url_query-data_science.txt', 'w') as f:\n",
    "    for url in all_jobs_links:\n",
    "        f.write(url)\n",
    "        f.write(\"\\n\")"
   ]
  },
  {
   "cell_type": "code",
   "execution_count": null,
   "id": "e995e0d2",
   "metadata": {},
   "outputs": [],
   "source": []
  },
  {
   "cell_type": "code",
   "execution_count": null,
   "id": "90cc8cb5",
   "metadata": {},
   "outputs": [],
   "source": []
  },
  {
   "cell_type": "code",
   "execution_count": null,
   "id": "8854edc7",
   "metadata": {},
   "outputs": [],
   "source": []
  },
  {
   "cell_type": "code",
   "execution_count": null,
   "id": "625fc03a",
   "metadata": {},
   "outputs": [],
   "source": []
  }
 ],
 "metadata": {
  "kernelspec": {
   "display_name": "Python 3 (ipykernel)",
   "language": "python",
   "name": "python3"
  },
  "language_info": {
   "codemirror_mode": {
    "name": "ipython",
    "version": 3
   },
   "file_extension": ".py",
   "mimetype": "text/x-python",
   "name": "python",
   "nbconvert_exporter": "python",
   "pygments_lexer": "ipython3",
   "version": "3.10.1"
  }
 },
 "nbformat": 4,
 "nbformat_minor": 5
}
