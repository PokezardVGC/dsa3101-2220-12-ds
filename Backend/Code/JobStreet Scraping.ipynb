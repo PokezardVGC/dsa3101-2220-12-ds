{
 "cells": [
  {
   "cell_type": "code",
   "execution_count": null,
   "id": "22c22289",
   "metadata": {},
   "outputs": [],
   "source": [
    "# !pip install selenium\n",
    "# !pip install webdriver-manager\n",
    "# View your Google Chrome browser version: chrome://settings/help\n",
    "# Download ChromeDriver that corresponds to your Google Chrome browser version: https://sites.google.com/chromium.org/driver/"
   ]
  },
  {
   "cell_type": "markdown",
   "id": "f511dc19",
   "metadata": {},
   "source": [
    "Useful links:\n",
    "https://stackoverflow.com/questions/69875125/find-element-by-commands-are-deprecated-in-selenium"
   ]
  },
  {
   "cell_type": "code",
   "execution_count": 1,
   "id": "551a1ae7",
   "metadata": {},
   "outputs": [],
   "source": [
    "from selenium import webdriver\n",
    "from selenium.webdriver.chrome.service import Service\n",
    "from selenium.webdriver.common.keys import Keys\n",
    "from selenium.webdriver.common.by import By\n",
    "from selenium.webdriver.support.wait import WebDriverWait\n",
    "from selenium.webdriver.support import expected_conditions as EC\n",
    "import time"
   ]
  },
  {
   "cell_type": "code",
   "execution_count": 2,
   "id": "ba1211f7",
   "metadata": {},
   "outputs": [],
   "source": [
    "CHROME_DRIVER_PATH = \"C:/Users/ernes/Downloads/chromedriver_win32/chromedriver.exe\""
   ]
  },
  {
   "cell_type": "code",
   "execution_count": 3,
   "id": "cc58f5bc",
   "metadata": {},
   "outputs": [],
   "source": [
    "ser = Service(CHROME_DRIVER_PATH)\n",
    "op = webdriver.ChromeOptions()"
   ]
  },
  {
   "cell_type": "markdown",
   "id": "81ad5eb5",
   "metadata": {},
   "source": [
    "# Selenium Tutorial\n",
    "https://www.youtube.com/playlist?list=PLzMcBGfZo4-n40rB1XaJ0ak1bemvlqumQ"
   ]
  },
  {
   "cell_type": "code",
   "execution_count": null,
   "id": "65501c1e",
   "metadata": {},
   "outputs": [],
   "source": [
    "# This cell will open a Chrome browser. DO NOT CLOSE IT MANUALLY. run: driver.quit() to close it instead\n",
    "driver = webdriver.Chrome(service=ser, options=op)\n",
    "driver.get(\"https://techwithtim.net\")"
   ]
  },
  {
   "cell_type": "code",
   "execution_count": null,
   "id": "b933858c",
   "metadata": {},
   "outputs": [],
   "source": [
    "# Finding search bar\n",
    "search = driver.find_element(By.NAME, \"s\")\n",
    "search.send_keys(\"test\")\n",
    "search.send_keys(Keys.RETURN)\n",
    "\n",
    "# Waiting for 10 seconds after sending keys to search bar\n",
    "try:\n",
    "    main = WebDriverWait(driver, 10).until(\n",
    "        EC.presence_of_element_located((By.ID, \"main\"))\n",
    "    )\n",
    "except:\n",
    "    driver.quit()"
   ]
  },
  {
   "cell_type": "code",
   "execution_count": null,
   "id": "617bf71f",
   "metadata": {},
   "outputs": [],
   "source": [
    "# Looking for multiple elements from main page\n",
    "articles = main.find_elements(By.TAG_NAME, \"article\")\n",
    "for article in articles:\n",
    "    header = article.find_element(By.CLASS_NAME, \"entry-summary\")\n",
    "    print(header.text)"
   ]
  },
  {
   "cell_type": "code",
   "execution_count": null,
   "id": "1e5ef8ad",
   "metadata": {},
   "outputs": [],
   "source": [
    "# Going back one page\n",
    "driver.back()"
   ]
  },
  {
   "cell_type": "code",
   "execution_count": null,
   "id": "24e0c78d",
   "metadata": {},
   "outputs": [],
   "source": [
    "link = driver.find_element(By.LINK_TEXT, \"Python Programming\")\n",
    "link.click()\n",
    "\n",
    "# Waiting for 10 seconds after sending keys to search bar\n",
    "try:\n",
    "    element = WebDriverWait(driver, 10).until(\n",
    "        EC.presence_of_element_located((By.LINK_TEXT, \"Beginner Python Tutorials\"))\n",
    "    )\n",
    "    element.click()\n",
    "    \n",
    "    element = WebDriverWait(driver, 10).until(\n",
    "        EC.presence_of_element_located((By.ID, \"sow-button-19310003\"))\n",
    "    )\n",
    "    element.click()\n",
    "except:\n",
    "    driver.quit()"
   ]
  },
  {
   "cell_type": "code",
   "execution_count": null,
   "id": "ed750bb7",
   "metadata": {},
   "outputs": [],
   "source": [
    "driver.quit()"
   ]
  },
  {
   "cell_type": "markdown",
   "id": "11c82a01",
   "metadata": {},
   "source": [
    "# JobStreet Scraping"
   ]
  },
  {
   "cell_type": "code",
   "execution_count": 40,
   "id": "148aca82",
   "metadata": {},
   "outputs": [],
   "source": [
    "website = \"https://www.jobstreet.com.sg/\"\n",
    "driver = webdriver.Chrome(service=ser, options=op)\n",
    "driver.get(website)"
   ]
  },
  {
   "cell_type": "code",
   "execution_count": 41,
   "id": "fe63dc56",
   "metadata": {},
   "outputs": [],
   "source": [
    "query = '\"data science\"'"
   ]
  },
  {
   "cell_type": "code",
   "execution_count": 42,
   "id": "7079c21e",
   "metadata": {},
   "outputs": [],
   "source": [
    "# Finding search bar\n",
    "search = driver.find_element(By.ID, \"searchKeywordsField\")\n",
    "\n",
    "# Remove all words in search bar\n",
    "search.send_keys(Keys.CONTROL + \"a\")\n",
    "search.send_keys(Keys.DELETE)\n",
    "\n",
    "# Send query\n",
    "search.send_keys(query)\n",
    "search.send_keys(Keys.RETURN)\n",
    "\n",
    "# Waiting for 10 seconds after sending keys to search bar\n",
    "try:\n",
    "    \n",
    "    \n",
    "    # Finding element by XPATH and class attribute since div class names are dynamic\n",
    "    jobs = WebDriverWait(driver, 10).until(\n",
    "        EC.presence_of_element_located((By.XPATH, \"//*[@data-automation='jobListing']\"))\n",
    "    )\n",
    "    \n",
    "    pages_url = [driver.current_url] # Stores the URLs of all pages visited\n",
    "    \n",
    "except:\n",
    "    driver.quit()"
   ]
  },
  {
   "cell_type": "code",
   "execution_count": 43,
   "id": "4034cbcd",
   "metadata": {},
   "outputs": [],
   "source": [
    "next_page_url = [page.get_attribute(\"href\") for page in driver.find_element(By.XPATH, \"//*[@data-automation='pagination']\").find_elements(By.XPATH, \"a[@href]\")]\n",
    "visited = [driver.current_url]\n",
    "queue = []\n",
    "for url in next_page_url:\n",
    "    if url not in visited:\n",
    "        queue.append(url)"
   ]
  },
  {
   "cell_type": "code",
   "execution_count": 44,
   "id": "ea134b9b",
   "metadata": {},
   "outputs": [
    {
     "name": "stdout",
     "output_type": "stream",
     "text": [
      "['https://www.jobstreet.com.sg/%22data-science%22-jobs?pg=2']\n",
      "['https://www.jobstreet.com.sg/%22data-science%22-jobs?pg=3']\n",
      "['https://www.jobstreet.com.sg/%22data-science%22-jobs?pg=4']\n",
      "['https://www.jobstreet.com.sg/%22data-science%22-jobs?pg=5']\n",
      "['https://www.jobstreet.com.sg/%22data-science%22-jobs?pg=6']\n",
      "['https://www.jobstreet.com.sg/%22data-science%22-jobs?pg=7']\n",
      "['https://www.jobstreet.com.sg/%22data-science%22-jobs?pg=8']\n",
      "['https://www.jobstreet.com.sg/%22data-science%22-jobs?pg=9']\n",
      "['https://www.jobstreet.com.sg/%22data-science%22-jobs?pg=10']\n",
      "['https://www.jobstreet.com.sg/%22data-science%22-jobs?pg=11']\n",
      "['https://www.jobstreet.com.sg/%22data-science%22-jobs?pg=12']\n",
      "['https://www.jobstreet.com.sg/%22data-science%22-jobs?pg=13']\n",
      "['https://www.jobstreet.com.sg/%22data-science%22-jobs?pg=14']\n",
      "['https://www.jobstreet.com.sg/%22data-science%22-jobs?pg=15']\n",
      "['https://www.jobstreet.com.sg/%22data-science%22-jobs?pg=16']\n",
      "['https://www.jobstreet.com.sg/%22data-science%22-jobs?pg=17']\n",
      "['https://www.jobstreet.com.sg/%22data-science%22-jobs?pg=18']\n",
      "['https://www.jobstreet.com.sg/%22data-science%22-jobs?pg=19']\n",
      "['https://www.jobstreet.com.sg/%22data-science%22-jobs?pg=20']\n",
      "['https://www.jobstreet.com.sg/%22data-science%22-jobs?pg=21']\n",
      "['https://www.jobstreet.com.sg/%22data-science%22-jobs?pg=22']\n",
      "['https://www.jobstreet.com.sg/%22data-science%22-jobs?pg=23']\n",
      "['https://www.jobstreet.com.sg/%22data-science%22-jobs?pg=24']\n",
      "['https://www.jobstreet.com.sg/%22data-science%22-jobs?pg=25']\n",
      "['https://www.jobstreet.com.sg/%22data-science%22-jobs?pg=26']\n",
      "['https://www.jobstreet.com.sg/%22data-science%22-jobs?pg=27']\n",
      "['https://www.jobstreet.com.sg/%22data-science%22-jobs?pg=28']\n",
      "['https://www.jobstreet.com.sg/%22data-science%22-jobs?pg=29']\n",
      "['https://www.jobstreet.com.sg/%22data-science%22-jobs?pg=30']\n",
      "['https://www.jobstreet.com.sg/%22data-science%22-jobs?pg=31']\n",
      "['https://www.jobstreet.com.sg/%22data-science%22-jobs?pg=32']\n",
      "['https://www.jobstreet.com.sg/%22data-science%22-jobs?pg=33']\n",
      "['https://www.jobstreet.com.sg/%22data-science%22-jobs?pg=34']\n",
      "['https://www.jobstreet.com.sg/%22data-science%22-jobs?pg=35']\n",
      "['https://www.jobstreet.com.sg/%22data-science%22-jobs?pg=36']\n",
      "['https://www.jobstreet.com.sg/%22data-science%22-jobs?pg=37']\n",
      "['https://www.jobstreet.com.sg/%22data-science%22-jobs?pg=38']\n",
      "['https://www.jobstreet.com.sg/%22data-science%22-jobs?pg=39']\n",
      "['https://www.jobstreet.com.sg/%22data-science%22-jobs?pg=40']\n",
      "['https://www.jobstreet.com.sg/%22data-science%22-jobs?pg=41']\n",
      "['https://www.jobstreet.com.sg/%22data-science%22-jobs?pg=42']\n",
      "['https://www.jobstreet.com.sg/%22data-science%22-jobs?pg=43']\n",
      "['https://www.jobstreet.com.sg/%22data-science%22-jobs?pg=44']\n",
      "['https://www.jobstreet.com.sg/%22data-science%22-jobs?pg=45']\n",
      "['https://www.jobstreet.com.sg/%22data-science%22-jobs?pg=46']\n",
      "['https://www.jobstreet.com.sg/%22data-science%22-jobs?pg=47']\n",
      "['https://www.jobstreet.com.sg/%22data-science%22-jobs?pg=48']\n",
      "['https://www.jobstreet.com.sg/%22data-science%22-jobs?pg=49']\n",
      "['https://www.jobstreet.com.sg/%22data-science%22-jobs?pg=50']\n",
      "['https://www.jobstreet.com.sg/%22data-science%22-jobs?pg=51']\n",
      "['https://www.jobstreet.com.sg/%22data-science%22-jobs?pg=52']\n"
     ]
    }
   ],
   "source": [
    "while len(queue) > 0: # REVISE\n",
    "    \n",
    "    # Visiting all pages\n",
    "    \n",
    "    # Dequeue next URL\n",
    "    next_url = queue[-1]\n",
    "    queue = queue[:-1]\n",
    "    visited.append(next_url)\n",
    "    print(f\"Visiting {next_url}\")\n",
    "    driver.get(next_url)\n",
    "    \n",
    "    # Finding new URLs\n",
    "    next_page_url = [page.get_attribute(\"href\") for page in driver.find_element(By.XPATH, \"//*[@data-automation='pagination']\").find_elements(By.XPATH, \"a[@href]\")]\n",
    "    for url in next_page_url:\n",
    "        if url not in visited:\n",
    "            queue.append(url)"
   ]
  },
  {
   "cell_type": "code",
   "execution_count": 7,
   "id": "08d3c067",
   "metadata": {},
   "outputs": [],
   "source": [
    "# Getting the job postings on the page\n",
    "jobs_list = jobs.find_elements(By.XPATH, \"./*\")[:-2] # The last two results are invalid\n",
    "\n",
    "# Getting the links for each job posting\n",
    "job_links = [job.find_element(By.TAG_NAME, \"h1\").find_element(By.XPATH, \"a[@href]\").get_attribute(\"href\") for job in jobs_list]"
   ]
  },
  {
   "cell_type": "code",
   "execution_count": null,
   "id": "e21daa7d",
   "metadata": {},
   "outputs": [],
   "source": []
  },
  {
   "cell_type": "code",
   "execution_count": null,
   "id": "9594d75e",
   "metadata": {},
   "outputs": [],
   "source": []
  },
  {
   "cell_type": "code",
   "execution_count": 34,
   "id": "bff3df43",
   "metadata": {},
   "outputs": [],
   "source": [
    "driver.quit()"
   ]
  },
  {
   "cell_type": "code",
   "execution_count": null,
   "id": "4fe95741",
   "metadata": {},
   "outputs": [],
   "source": []
  },
  {
   "cell_type": "code",
   "execution_count": null,
   "id": "a3bd15b9",
   "metadata": {},
   "outputs": [],
   "source": []
  },
  {
   "cell_type": "code",
   "execution_count": null,
   "id": "e1f6f689",
   "metadata": {},
   "outputs": [],
   "source": []
  },
  {
   "cell_type": "code",
   "execution_count": null,
   "id": "b38f2901",
   "metadata": {},
   "outputs": [],
   "source": []
  },
  {
   "cell_type": "markdown",
   "id": "c021ac13",
   "metadata": {},
   "source": [
    "## Misc Code"
   ]
  },
  {
   "cell_type": "code",
   "execution_count": null,
   "id": "5fa603d4",
   "metadata": {},
   "outputs": [],
   "source": [
    "# Get the number of jobs shown on the page\n",
    "num_job_range = driver.find_element(By.TAG_NAME, \"strong\").text # E.g. \"1-30\"\n",
    "num_jobs = num_job_range.split('-')\n",
    "num_jobs = int(num_jobs[1]) - int(num_jobs[0]) + 1 # E.g. 30 - 1 + 1 jobs shown on the page"
   ]
  },
  {
   "cell_type": "code",
   "execution_count": null,
   "id": "db8bb0df",
   "metadata": {},
   "outputs": [],
   "source": []
  },
  {
   "cell_type": "code",
   "execution_count": null,
   "id": "8144d3f3",
   "metadata": {},
   "outputs": [],
   "source": []
  },
  {
   "cell_type": "code",
   "execution_count": null,
   "id": "625fc03a",
   "metadata": {},
   "outputs": [],
   "source": []
  }
 ],
 "metadata": {
  "kernelspec": {
   "display_name": "Python 3 (ipykernel)",
   "language": "python",
   "name": "python3"
  },
  "language_info": {
   "codemirror_mode": {
    "name": "ipython",
    "version": 3
   },
   "file_extension": ".py",
   "mimetype": "text/x-python",
   "name": "python",
   "nbconvert_exporter": "python",
   "pygments_lexer": "ipython3",
   "version": "3.10.1"
  }
 },
 "nbformat": 4,
 "nbformat_minor": 5
}
