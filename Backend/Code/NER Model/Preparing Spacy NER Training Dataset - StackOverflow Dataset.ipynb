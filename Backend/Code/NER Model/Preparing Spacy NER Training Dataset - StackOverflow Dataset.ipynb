{
 "cells": [
  {
   "cell_type": "markdown",
   "id": "1193756c",
   "metadata": {},
   "source": [
    "Output dataset must have the following format:\n",
    "\n",
    "[[‘Who is Shaka Khan?’, {‘entities’: [[7, 17, ‘PERSON’]]}],\n",
    " [‘I like London and Berlin.’,\n",
    "  {‘entities’: [[7, 13, ‘LOC’], [18, 24, ‘LOC’]]}]]\n",
    "  \n",
    "  \n",
    "#### Credits: \n",
    "\n",
    "https://dfelo93.medium.com/how-to-train-a-spacy-model-for-ner-cc8f964372ca"
   ]
  },
  {
   "cell_type": "code",
   "execution_count": 1,
   "id": "8bef35d8",
   "metadata": {},
   "outputs": [],
   "source": [
    "import pandas as pd\n",
    "import spacy\n",
    "from spacy.tokens import DocBin\n",
    "from tqdm import tqdm\n",
    "from spacy.util import filter_spans\n",
    "\n",
    "nlp = spacy.blank(\"en\")\n",
    "doc_bin = DocBin()"
   ]
  },
  {
   "cell_type": "code",
   "execution_count": 2,
   "id": "42982c21",
   "metadata": {},
   "outputs": [
    {
     "name": "stdout",
     "output_type": "stream",
     "text": [
      "\u001b[38;5;4m[i] Auto-detected token-per-line NER format\u001b[0m\n",
      "\u001b[38;5;4m[i] Grouping every 10 sentences into a document.\u001b[0m\n",
      "\u001b[38;5;2m[+] Generated output file (1 documents):\n",
      "..\\..\\Data\\NER_annotated_data\\StackOverflow\\train.json\u001b[0m\n",
      "\u001b[38;5;4m[i] Auto-detected token-per-line NER format\u001b[0m\n",
      "\u001b[38;5;4m[i] Grouping every 10 sentences into a document.\u001b[0m\n",
      "\u001b[38;5;2m[+] Generated output file (1 documents):\n",
      "..\\..\\Data\\NER_annotated_data\\StackOverflow\\test.json\u001b[0m\n",
      "\u001b[38;5;4m[i] Auto-detected token-per-line NER format\u001b[0m\n",
      "\u001b[38;5;4m[i] Grouping every 10 sentences into a document.\u001b[0m\n",
      "\u001b[38;5;2m[+] Generated output file (1 documents):\n",
      "..\\..\\Data\\NER_annotated_data\\StackOverflow\\dev.json\u001b[0m\n",
      "\u001b[38;5;4m[i] Auto-detected token-per-line NER format\u001b[0m\n",
      "\u001b[38;5;4m[i] Grouping every 10 sentences into a document.\u001b[0m\n",
      "\u001b[38;5;2m[+] Generated output file (1 documents):\n",
      "..\\..\\Data\\NER_annotated_data\\GitHub\\gh_test.json\u001b[0m\n"
     ]
    }
   ],
   "source": [
    "!python -m spacy convert \"./../../Data/NER_annotated_data/StackOverflow/train.txt\" \"./../../Data/NER_annotated_data/StackOverflow/\" -t json -n 10 -c iob\n",
    "!python -m spacy convert \"./../../Data/NER_annotated_data/StackOverflow/test.txt\" \"./../../Data/NER_annotated_data/StackOverflow/\" -t json -n 10 -c iob\n",
    "!python -m spacy convert \"./../../Data/NER_annotated_data/StackOverflow/dev.txt\" \"./../../Data/NER_annotated_data/StackOverflow/\" -t json -n 10 -c iob\n",
    "!python -m spacy convert \"./../../Data/NER_annotated_data/GitHub/gh_test.txt\" \"./../../Data/NER_annotated_data/GitHub/\" -t json -n 10 -c iob"
   ]
  },
  {
   "cell_type": "code",
   "execution_count": 3,
   "id": "5e26b113",
   "metadata": {},
   "outputs": [
    {
     "name": "stdout",
     "output_type": "stream",
     "text": [
      "\u001b[38;5;2m[+] Generated output file (927 documents):\n",
      "..\\..\\Data\\NER_annotated_data\\StackOverflow\\train.spacy\u001b[0m\n",
      "\u001b[38;5;2m[+] Generated output file (311 documents):\n",
      "..\\..\\Data\\NER_annotated_data\\StackOverflow\\test.spacy\u001b[0m\n",
      "\u001b[38;5;2m[+] Generated output file (294 documents):\n",
      "..\\..\\Data\\NER_annotated_data\\StackOverflow\\dev.spacy\u001b[0m\n",
      "\u001b[38;5;2m[+] Generated output file (626 documents):\n",
      "..\\..\\Data\\NER_annotated_data\\GitHub\\gh_test.spacy\u001b[0m\n"
     ]
    }
   ],
   "source": [
    "!python -m spacy convert \"./../../Data/NER_annotated_data/StackOverflow/train.json\" \"./../../Data/NER_annotated_data/StackOverflow/\" -t spacy\n",
    "!python -m spacy convert \"./../../Data/NER_annotated_data/StackOverflow/test.json\" \"./../../Data/NER_annotated_data/StackOverflow/\" -t spacy\n",
    "!python -m spacy convert \"./../../Data/NER_annotated_data/StackOverflow/dev.json\" \"./../../Data/NER_annotated_data/StackOverflow/\" -t spacy\n",
    "!python -m spacy convert \"./../../Data/NER_annotated_data/GitHub/gh_test.json\" \"./../../Data/NER_annotated_data/GitHub/\" -t spacy"
   ]
  },
  {
   "cell_type": "code",
   "execution_count": null,
   "id": "f0402559",
   "metadata": {},
   "outputs": [],
   "source": []
  }
 ],
 "metadata": {
  "kernelspec": {
   "display_name": "Python 3 (ipykernel)",
   "language": "python",
   "name": "python3"
  },
  "language_info": {
   "codemirror_mode": {
    "name": "ipython",
    "version": 3
   },
   "file_extension": ".py",
   "mimetype": "text/x-python",
   "name": "python",
   "nbconvert_exporter": "python",
   "pygments_lexer": "ipython3",
   "version": "3.10.1"
  }
 },
 "nbformat": 4,
 "nbformat_minor": 5
}
