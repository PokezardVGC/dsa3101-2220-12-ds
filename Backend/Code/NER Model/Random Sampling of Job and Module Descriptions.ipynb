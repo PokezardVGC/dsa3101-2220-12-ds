{
 "cells": [
  {
   "cell_type": "markdown",
   "id": "4d4838f5",
   "metadata": {},
   "source": [
    "NER Tagger: https://tecoholic.github.io/ner-annotator/\n",
    "\n",
    "Aim to tag 300 documents: 150 JDs and 150 Module Descriptions"
   ]
  },
  {
   "cell_type": "markdown",
   "id": "ded50d5b",
   "metadata": {},
   "source": [
    "# Gathering Module Descriptions"
   ]
  },
  {
   "cell_type": "code",
   "execution_count": 1,
   "id": "579f66ae",
   "metadata": {},
   "outputs": [],
   "source": [
    "import pandas as pd\n",
    "import os\n",
    "import random"
   ]
  },
  {
   "cell_type": "code",
   "execution_count": 2,
   "id": "9e560d5f",
   "metadata": {},
   "outputs": [],
   "source": [
    "UNI_MODDESC_MAPPING = {\n",
    "    \"nus_dsa_mods.xlsx\" : \"mod_desc\",\n",
    "    \"NTU_course_info.csv\" : \"Course Aims\",\n",
    "    \"SMU_course_info.csv\" : \"Description\",\n",
    "    \"SUSS_course_info.csv\" : \"module description\",\n",
    "    \"SUTD_course_info.csv\" : \"Module description\",\n",
    "    \"SIT_Module_Info.csv\" : \"Module Description \"\n",
    "}\n",
    "\n",
    "SKIP_ROWS = {\n",
    "    \"nus_dsa_mods.xlsx\" : 0,\n",
    "    \"NTU_course_info.csv\" : 0,\n",
    "    \"SMU_course_info.csv\" : 1,\n",
    "    \"SUSS_course_info.csv\" : 0,\n",
    "    \"SUTD_course_info.csv\" : 5,\n",
    "    \"SIT_Module_Info.csv\" : 0\n",
    "}"
   ]
  },
  {
   "cell_type": "code",
   "execution_count": 3,
   "id": "4d5ba920",
   "metadata": {},
   "outputs": [],
   "source": [
    "READ_FOLDER = \"../../../Data/university_courses/\""
   ]
  },
  {
   "cell_type": "code",
   "execution_count": 4,
   "id": "7a0d810b",
   "metadata": {},
   "outputs": [
    {
     "name": "stdout",
     "output_type": "stream",
     "text": [
      "Gathering module descriptions from nus_dsa_mods.xlsx\n",
      "Gathering module descriptions from NTU_course_info.csv\n",
      "Gathering module descriptions from SMU_course_info.csv\n",
      "Gathering module descriptions from SUSS_course_info.csv\n",
      "Gathering module descriptions from SUTD_course_info.csv\n",
      "Gathering module descriptions from SIT_Module_Info.csv\n"
     ]
    },
    {
     "data": {
      "text/plain": [
       "0      This module introduces the fundamental concept...\n",
       "1      The abundance of data being harvested from var...\n",
       "2      This module is a first course in linear algebr...\n",
       "3      This is a course in single-variable calculus. ...\n",
       "4      This module introduces students to the design ...\n",
       "                             ...                        \n",
       "173    Students will be grouped into teams of 5-6 and...\n",
       "174    To keep up-to-date with the advances in techno...\n",
       "175    Students will undertake an eight-month Integra...\n",
       "176    This is a major individual project that is to ...\n",
       "177    This module will endow students with the under...\n",
       "Length: 178, dtype: object"
      ]
     },
     "metadata": {},
     "output_type": "display_data"
    }
   ],
   "source": [
    "mod_descriptions = pd.Series([], dtype='object')\n",
    "for uni, description_col in UNI_MODDESC_MAPPING.items():\n",
    "    print(f\"Gathering module descriptions from {uni}\")\n",
    "    try:\n",
    "        table = pd.read_excel(READ_FOLDER + uni, skiprows=SKIP_ROWS[uni])\n",
    "    except:\n",
    "        table = pd.read_csv(READ_FOLDER + uni, skiprows=SKIP_ROWS[uni], encoding_errors='ignore')\n",
    "    \n",
    "    table_desc = table[UNI_MODDESC_MAPPING[uni]].dropna().reset_index(drop=True)\n",
    "    mod_descriptions = pd.concat([mod_descriptions, table_desc]).reset_index(drop=True)\n",
    "    \n",
    "display(mod_descriptions)"
   ]
  },
  {
   "cell_type": "code",
   "execution_count": 5,
   "id": "cc9592e3",
   "metadata": {},
   "outputs": [
    {
     "data": {
      "text/plain": [
       "0      This module introduces the fundamental concept...\n",
       "1      The abundance of data being harvested from var...\n",
       "2      This module is a first course in linear algebr...\n",
       "3      This module introduces students to the design ...\n",
       "4      Data visualisation is an essential tool for da...\n",
       "                             ...                        \n",
       "145    Students will be grouped into teams of 5-6 and...\n",
       "146    To keep up-to-date with the advances in techno...\n",
       "147    Students will undertake an eight-month Integra...\n",
       "148    This is a major individual project that is to ...\n",
       "149    This module will endow students with the under...\n",
       "Length: 150, dtype: object"
      ]
     },
     "metadata": {},
     "output_type": "display_data"
    }
   ],
   "source": [
    "# Select 150 random module descriptions\n",
    "SAMPLE_SIZE = 150\n",
    "indices = sorted(random.sample(range(len(mod_descriptions)), SAMPLE_SIZE))\n",
    "mod_descriptions = mod_descriptions.iloc[indices].reset_index(drop=True)\n",
    "display(mod_descriptions)"
   ]
  },
  {
   "cell_type": "markdown",
   "id": "bf1ec009",
   "metadata": {},
   "source": [
    "# Gathering Job Descriptions"
   ]
  },
  {
   "cell_type": "code",
   "execution_count": 6,
   "id": "8e54a1e4",
   "metadata": {},
   "outputs": [
    {
     "data": {
      "text/plain": [
       "['jobstreet_query-data_analyst.csv',\n",
       " 'jobstreet_query-data_engineer.csv',\n",
       " 'jobstreet_query-data_science.csv',\n",
       " 'jobstreet_query-machine_learning_engineer.csv',\n",
       " 'mycareersfuture_query-data_analyst.csv',\n",
       " 'mycareersfuture_query-data_engineer.csv',\n",
       " 'mycareersfuture_query-data_science.csv',\n",
       " 'mycareersfuture_query-machine_learning_engineer.csv']"
      ]
     },
     "execution_count": 6,
     "metadata": {},
     "output_type": "execute_result"
    }
   ],
   "source": [
    "READ_FOLDER = \"C:/Users/ernest.liu/Documents/git/dsa3101-2220-12-ds/Backend/Data/jobs/\"\n",
    "job_files = [file_name for file_name in os.listdir(READ_FOLDER) if \".csv\" in file_name]\n",
    "job_files"
   ]
  },
  {
   "cell_type": "code",
   "execution_count": 7,
   "id": "bb7de5b7",
   "metadata": {},
   "outputs": [],
   "source": [
    "job_descriptions = pd.Series([], dtype='object')\n",
    "for job_file in job_files:\n",
    "    table = pd.read_csv(READ_FOLDER + job_file)\n",
    "    table_desc = table['Description'].dropna().reset_index(drop=True)\n",
    "    job_descriptions = pd.concat([job_descriptions, table_desc]).reset_index(drop=True)"
   ]
  },
  {
   "cell_type": "code",
   "execution_count": 8,
   "id": "0eb911ed",
   "metadata": {},
   "outputs": [
    {
     "data": {
      "text/plain": [
       "0      Responsibilities Founded in 2012, ByteDance's ...\n",
       "1      Responsibilities: The e-commerce industry has ...\n",
       "2      Responsibilities [About Tiktok] TikTok is the ...\n",
       "3      Responsibilities About TikTok TikTok is the le...\n",
       "4      Who are we? At L’Oréal, there is never a dull ...\n",
       "                             ...                        \n",
       "145    Job Responsibilities:\\r\\nSupport data classifi...\n",
       "146    Role:\\r\\nSupport data classification and taxon...\n",
       "147    This internship offers hands-on experience wor...\n",
       "148    TikTok is the leading destination for short-fo...\n",
       "149    TikTok is the leading destination for short-fo...\n",
       "Length: 150, dtype: object"
      ]
     },
     "metadata": {},
     "output_type": "display_data"
    }
   ],
   "source": [
    "# Select 150 random job descriptions\n",
    "SAMPLE_SIZE = 150\n",
    "indices = sorted(random.sample(range(len(job_descriptions)), SAMPLE_SIZE))\n",
    "job_descriptions = job_descriptions.iloc[indices].reset_index(drop=True)\n",
    "display(job_descriptions)"
   ]
  },
  {
   "cell_type": "markdown",
   "id": "f894f301",
   "metadata": {},
   "source": [
    "# Combining both descriptions"
   ]
  },
  {
   "cell_type": "code",
   "execution_count": 9,
   "id": "e01b3624",
   "metadata": {},
   "outputs": [],
   "source": [
    "SAVE_PATH = \"C:/Users/ernest.liu/Documents/git/dsa3101-2220-12-ds/Backend/Data/NER_annotated_data/Job_Mod_Descriptions/\"\n",
    "SAVE_FILE_NAME = \"job_mod_desc-unlabelled.txt\""
   ]
  },
  {
   "cell_type": "code",
   "execution_count": 10,
   "id": "645ce0fc",
   "metadata": {},
   "outputs": [],
   "source": [
    "with open(SAVE_PATH + SAVE_FILE_NAME, \"w\", encoding='utf-8') as f:\n",
    "    for description in pd.concat([mod_descriptions, job_descriptions]):\n",
    "        f.write(description)\n",
    "        f.write(\"\\nNEXT ENTRY\\n\")"
   ]
  },
  {
   "cell_type": "code",
   "execution_count": null,
   "id": "063b54ee",
   "metadata": {},
   "outputs": [],
   "source": []
  }
 ],
 "metadata": {
  "kernelspec": {
   "display_name": "Python 3 (ipykernel)",
   "language": "python",
   "name": "python3"
  },
  "language_info": {
   "codemirror_mode": {
    "name": "ipython",
    "version": 3
   },
   "file_extension": ".py",
   "mimetype": "text/x-python",
   "name": "python",
   "nbconvert_exporter": "python",
   "pygments_lexer": "ipython3",
   "version": "3.9.13"
  }
 },
 "nbformat": 4,
 "nbformat_minor": 5
}
