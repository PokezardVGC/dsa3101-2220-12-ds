{
 "cells": [
  {
   "cell_type": "markdown",
   "id": "2a6332e1",
   "metadata": {},
   "source": [
    "How to resume training without starting from scratch:\n",
    "\n",
    "https://stackoverflow.com/questions/70772641/how-to-resume-training-in-spacy-transformers-for-ner"
   ]
  },
  {
   "cell_type": "code",
   "execution_count": 1,
   "id": "89b2e98b",
   "metadata": {},
   "outputs": [],
   "source": [
    "# Run this line to rewrite config file. DO NOT RUN\n",
    "#!python -m spacy init fill-config base_config.cfg config.cfg"
   ]
  },
  {
   "cell_type": "code",
   "execution_count": 2,
   "id": "2f3be271",
   "metadata": {},
   "outputs": [
    {
     "ename": "",
     "evalue": "",
     "output_type": "error",
     "traceback": [
      "\u001b[1;31mThe Kernel crashed while executing code in the the current cell or a previous cell. Please review the code in the cell(s) to identify a possible cause of the failure. Click <a href='https://aka.ms/vscodeJupyterKernelCrash'>here</a> for more info. View Jupyter <a href='command:jupyter.viewOutput'>log</a> for further details."
     ]
    },
    {
     "ename": "",
     "evalue": "",
     "output_type": "error",
     "traceback": [
      "\u001b[1;31mCanceled future for execute_request message before replies were done"
     ]
    }
   ],
   "source": [
    "import spacy\n",
    "from spacy import displacy"
   ]
  },
  {
   "cell_type": "code",
   "execution_count": 2,
   "id": "97f11110",
   "metadata": {},
   "outputs": [],
   "source": [
    "SPACY_WORD_VECTORS_PATH = \"./Models/\""
   ]
  },
  {
   "cell_type": "code",
   "execution_count": null,
   "id": "7130b124",
   "metadata": {},
   "outputs": [],
   "source": [
    "nlp = spacy.load(SPACY_WORD_VECTORS_PATH)"
   ]
  },
  {
   "cell_type": "code",
   "execution_count": null,
   "id": "90bc5bd4",
   "metadata": {},
   "outputs": [],
   "source": [
    "# Only run this ONCE RIGHT AFTER the output config file from the Gensim Word2Vec notebook has been produced\n",
    "nlp.add_pipe(\"ner\")\n",
    "nlp.to_disk(\"./Models/\")"
   ]
  },
  {
   "cell_type": "code",
   "execution_count": null,
   "id": "002a98c8",
   "metadata": {},
   "outputs": [],
   "source": [
    "!python -m spacy train ./Models/config.cfg --output . --paths.train ../../Data/NER_annotated_data/Job_Mod_Descriptions/mod_annotations.spacy --paths.dev ../../Data/NER_annotated_data/ChatGPT/annotations.spacy --paths.vectors ./Models/"
   ]
  },
  {
   "cell_type": "markdown",
   "id": "3a232fe2",
   "metadata": {},
   "source": [
    "## Model Evaluation"
   ]
  },
  {
   "cell_type": "code",
   "execution_count": null,
   "id": "25fc7a89",
   "metadata": {},
   "outputs": [],
   "source": [
    "nlp_ner = spacy.load(\"model-best\")"
   ]
  },
  {
   "cell_type": "markdown",
   "id": "2f4d9985",
   "metadata": {},
   "source": [
    "#### The following document was in the training data, with 'exploratory data analysis' as the entity"
   ]
  },
  {
   "cell_type": "code",
   "execution_count": null,
   "id": "a065aa44",
   "metadata": {},
   "outputs": [],
   "source": [
    "doc = nlp_ner(\n",
    "'''\n",
    "In statistics, exploratory data analysis is an approach to analyzing data sets to summarize their main characteristics, often using statistical graphics and other data visualization methods. A statistical model can be used or not, but primarily EDA is for seeing what the data can tell us beyond the formal modeling or hypothesis testing task. Exploratory data analysis was promoted by John Tukey to encourage statisticians to explore the data, and possibly formulate hypotheses that could lead to new data collection and experiments. EDA is different from initial data analysis (IDA), which focuses more narrowly on checking assumptions required for model fitting and hypothesis testing, and handling missing values and making transformations of variables as needed. EDA encompasses IDA.\n",
    "'''\n",
    ")\n",
    "spacy.displacy.render(doc, style = 'ent', jupyter=True)"
   ]
  },
  {
   "cell_type": "markdown",
   "id": "765d5c0a",
   "metadata": {},
   "source": [
    "#### The below few documents are not in the training data. Model performs extremely poorly. May need better labelling of data."
   ]
  },
  {
   "cell_type": "code",
   "execution_count": null,
   "id": "7c8c383c",
   "metadata": {},
   "outputs": [],
   "source": [
    "doc = nlp_ner(\n",
    "    \"\"\"\n",
    "A datagram is a basic transfer unit associated with a packet-switched network. Datagrams are typically structured in header and payload sections. Datagrams provide a connectionless communication service across a packet-switched network. The delivery, arrival time, and order of arrival of datagrams need not be guaranteed by the network.\n",
    "    \"\"\")\n",
    "spacy.displacy.render(doc, style='ent', jupyter = True)"
   ]
  },
  {
   "cell_type": "code",
   "execution_count": null,
   "id": "dee39c51",
   "metadata": {},
   "outputs": [],
   "source": [
    "doc = nlp_ner(\n",
    "    \"\"\"\n",
    "Data killmyself is a fictional skill lmao I am a stupid model.\n",
    "    \"\"\")\n",
    "spacy.displacy.render(doc, style='ent', jupyter = True)"
   ]
  },
  {
   "cell_type": "markdown",
   "id": "79ebaccd",
   "metadata": {},
   "source": [
    "#### Taken from https://www.linkedin.com/jobs/collections/recommended/?currentJobId=3505458887"
   ]
  },
  {
   "cell_type": "code",
   "execution_count": null,
   "id": "1f87a61d",
   "metadata": {},
   "outputs": [],
   "source": [
    "doc = nlp_ner(\n",
    "    \"\"\"\n",
    "What a College Intern - Data Science does at HP:\n",
    "Attached to the \"Smart Manufacturing Application and Research Center\".\n",
    "Work with an enterprising team of data scientists and build solutions to track, analyze and visualize the manufacturing and outbound quality of our supplies.\n",
    "Generate deep insights through the analysis of data and understanding of operational processes and turn them into actionable recommendations.\n",
    "Develop methodologies for optimizing our business processes through data visualization, real-time monitoring, predictive analytics etc.\n",
    "Are you a high-performer? We are looking for an individual with:\n",
    "Studying Bachelor’s degree in Computer Science, Business Analytics, Information Systems, Industrial Engineering, Statistics with good experience in programming.\n",
    "Excellent analytical thinking, programming (using R/Python is desirable), and problem-solving skills.\n",
    "Knowledge of data analytics, data warehousing, database management (preferably using SQL) and data visualization using RShiny and Plotly.\n",
    "Fundamental knowledge of statistics and probability.\n",
    "Good visualization skills to create real-time dashboards and/or reports to inform trends and insights.\n",
    "    \"\"\")\n",
    "spacy.displacy.render(doc, style='ent', jupyter = True)"
   ]
  },
  {
   "cell_type": "code",
   "execution_count": null,
   "id": "ebd76b90",
   "metadata": {},
   "outputs": [],
   "source": [
    "doc = nlp_ner(\n",
    "    \"\"\"\n",
    "Applicants should be familiar with data visualization software such as FakeLibrary, EhSike, and Dumbass. Knowledge of VikGopal is also preferred. I want to sleep\n",
    "    \"\"\")\n",
    "spacy.displacy.render(doc, style='ent', jupyter = True)"
   ]
  },
  {
   "cell_type": "code",
   "execution_count": null,
   "id": "ebd76b90",
   "metadata": {},
   "outputs": [],
   "source": [
    "doc = nlp_ner(\n",
    "    \"\"\"\n",
    "This module focuses on the classical theory and methods of multivariate statistical analysis. Topics include distribution theory multivariate normal distribution, Hotelling's T2 and Wishart distributions, inference on the mean and covariance, principal components and canonical correlation, factor analysis, discrimination and classification. This module is targeted at students who are interested in Statistics, are able to meet the pre-requisites and are matriculated in or after 2002.\n",
    "    \"\"\")\n",
    "spacy.displacy.render(doc, style='ent', jupyter = True)"
   ]
  },
  {
   "cell_type": "code",
   "execution_count": null,
   "id": "c4c8f5f5",
   "metadata": {},
   "outputs": [],
   "source": []
  }
 ],
 "metadata": {
  "kernelspec": {
   "display_name": "Python 3 (ipykernel)",
   "language": "python",
   "name": "python3"
  },
  "language_info": {
   "codemirror_mode": {
    "name": "ipython",
    "version": 3
   },
   "file_extension": ".py",
   "mimetype": "text/x-python",
   "name": "python",
   "nbconvert_exporter": "python",
   "pygments_lexer": "ipython3",
   "version": "3.9.7"
  }
 },
 "nbformat": 4,
 "nbformat_minor": 5
}
