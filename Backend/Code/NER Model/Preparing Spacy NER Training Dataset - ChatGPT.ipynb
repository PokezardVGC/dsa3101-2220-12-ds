{
 "cells": [
  {
   "cell_type": "markdown",
   "id": "1193756c",
   "metadata": {},
   "source": [
    "Output dataset must have the following format:\n",
    "\n",
    "[[‘Who is Shaka Khan?’, {‘entities’: [[7, 17, ‘PERSON’]]}],\n",
    " [‘I like London and Berlin.’,\n",
    "  {‘entities’: [[7, 13, ‘LOC’], [18, 24, ‘LOC’]]}]]\n",
    "  \n",
    "  \n",
    "#### Credits: \n",
    "\n",
    "https://dfelo93.medium.com/how-to-train-a-spacy-model-for-ner-cc8f964372ca"
   ]
  },
  {
   "cell_type": "code",
   "execution_count": 1,
   "id": "38adbd75",
   "metadata": {},
   "outputs": [],
   "source": [
    "import spacy\n",
    "from spacy.tokens import DocBin\n",
    "from spacy.training import Example\n",
    "from spacy.cli.train import train\n",
    "import json\n",
    "import random"
   ]
  },
  {
   "cell_type": "code",
   "execution_count": null,
   "id": "f0402559",
   "metadata": {},
   "outputs": [],
   "source": [
    "sentences = []\n",
    "with open(\"../../Data/NER_annotated_data/chatgpt.txt\", \"r\", encoding = \"utf-8\") as f:\n",
    "    for line in f:\n",
    "        if ', {\"entities' not in line: continue\n",
    "        end_index = line.index(', {\"entities')\n",
    "        end_index -= 1\n",
    "        start_index = line.index('\"')\n",
    "        start_index += 1\n",
    "        sentence = line[start_index : end_index]\n",
    "        print(sentence)\n",
    "        sentences.append(sentence)"
   ]
  },
  {
   "cell_type": "code",
   "execution_count": null,
   "id": "5d67ce80",
   "metadata": {},
   "outputs": [],
   "source": [
    "with open(\"../../Data/NER_annotated_data/chatgpt_sentences.txt\", \"w\", encoding = \"utf-8\") as f:\n",
    "    for i, sentence in enumerate(sentences):\n",
    "        f.write(sentence)\n",
    "        if i == len(sentences) - 1: continue\n",
    "        f.write(\"\\n\")"
   ]
  },
  {
   "cell_type": "code",
   "execution_count": null,
   "id": "da962632",
   "metadata": {},
   "outputs": [],
   "source": []
  },
  {
   "cell_type": "code",
   "execution_count": null,
   "id": "78adbb3b",
   "metadata": {},
   "outputs": [],
   "source": [
    "# Converting JSON dataset to spaCy docbin binary file. DOES NOT WORK. Deprecated in Spacy 3X\n",
    "# !python -m spacy convert ./../../Data/NER_annotated_data/ChatGPT/annotations.json ./../../Data/NER_annotated_data/ChatGPT/"
   ]
  },
  {
   "cell_type": "code",
   "execution_count": 2,
   "id": "912156b6",
   "metadata": {},
   "outputs": [],
   "source": [
    "# Converting JSON dataset manually into spaCy doc bin format\n",
    "with open(\"./../../Data/NER_annotated_data/ChatGPT/annotations.json\", \"r\") as f:\n",
    "    data = json.load(f)"
   ]
  },
  {
   "cell_type": "code",
   "execution_count": 3,
   "id": "f815f581",
   "metadata": {},
   "outputs": [],
   "source": [
    "nlp = spacy.blank(\"en\")\n",
    "doc_bin = DocBin()"
   ]
  },
  {
   "cell_type": "code",
   "execution_count": 4,
   "id": "e27f6e11",
   "metadata": {},
   "outputs": [],
   "source": [
    "for i in range(len(data['annotations'])):\n",
    "    if not data['annotations'][i]: continue\n",
    "    text, annotations = data['annotations'][i]\n",
    "    doc = nlp.make_doc(text.strip())\n",
    "    ents = []\n",
    "    for start, end, label in annotations[\"entities\"]:\n",
    "        span = doc.char_span(start, end, label=label)\n",
    "        if span is None:\n",
    "            msg = f\"Skipping entity [{start}, {end}, {label}] in the following text because the character span '{doc.text[start:end]}' does not align with token boundaries:\\n\\n{repr(text)}\\n\"\n",
    "            warnings.warn(msg)\n",
    "        else:\n",
    "            ents.append(span)\n",
    "    doc.ents = ents\n",
    "    doc_bin.add(doc)"
   ]
  },
  {
   "cell_type": "code",
   "execution_count": 6,
   "id": "3f8796a2",
   "metadata": {},
   "outputs": [],
   "source": [
    "doc_bin.to_disk(\"./../../Data/NER_annotated_data/ChatGPT/annotations.spacy\")"
   ]
  },
  {
   "cell_type": "code",
   "execution_count": null,
   "id": "60c4c984",
   "metadata": {},
   "outputs": [],
   "source": []
  },
  {
   "cell_type": "code",
   "execution_count": null,
   "id": "1f69f4d6",
   "metadata": {},
   "outputs": [],
   "source": []
  },
  {
   "cell_type": "code",
   "execution_count": null,
   "id": "031182ff",
   "metadata": {},
   "outputs": [],
   "source": []
  }
 ],
 "metadata": {
  "kernelspec": {
   "display_name": "Python 3 (ipykernel)",
   "language": "python",
   "name": "python3"
  },
  "language_info": {
   "codemirror_mode": {
    "name": "ipython",
    "version": 3
   },
   "file_extension": ".py",
   "mimetype": "text/x-python",
   "name": "python",
   "nbconvert_exporter": "python",
   "pygments_lexer": "ipython3",
   "version": "3.9.13"
  }
 },
 "nbformat": 4,
 "nbformat_minor": 5
}
