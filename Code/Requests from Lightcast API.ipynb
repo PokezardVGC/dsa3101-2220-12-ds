{
 "cells": [
  {
   "cell_type": "markdown",
   "id": "295c66dd",
   "metadata": {},
   "source": [
    "Lightcast is a company that provides data about occupations, skills, schools and so on. I have created a notebook using my client credentials to access this data. Feel free to use it, or get access for your own use in this link: https://lightcast.io/open-skills/access\n",
    "\n",
    "I am using the 'Skills' dataset. Other datasets available can be found in this link: https://api.lightcast.io/datasets"
   ]
  },
  {
   "cell_type": "markdown",
   "id": "aaba8010",
   "metadata": {},
   "source": [
    "## Creating session token\n",
    "\n",
    "_Note: The session token only lasts for an hour_\n",
    "\n",
    "For more information, visit: https://api.lightcast.io/apis/skills#overview"
   ]
  },
  {
   "cell_type": "code",
   "execution_count": 1,
   "id": "45ec0531",
   "metadata": {},
   "outputs": [],
   "source": [
    "import requests\n",
    "import datetime\n",
    "from time import time\n",
    "import pandas as pd"
   ]
  },
  {
   "cell_type": "code",
   "execution_count": 2,
   "id": "a4354b1d",
   "metadata": {},
   "outputs": [],
   "source": [
    "CLIENT_ID = \"zr73n04dvvfeugya\"\n",
    "CLIENT_SECRET = \"T45GwOsv\"\n",
    "SCOPE = \"emsi_open\""
   ]
  },
  {
   "cell_type": "code",
   "execution_count": 3,
   "id": "1e8292b3",
   "metadata": {},
   "outputs": [
    {
     "name": "stdout",
     "output_type": "stream",
     "text": [
      "Session started at 22:00:59\n",
      "Session will end at 23:00:59\n"
     ]
    }
   ],
   "source": [
    "url = \"https://auth.emsicloud.com/connect/token\"\n",
    "payload = f\"client_id={CLIENT_ID}&client_secret={CLIENT_SECRET}&grant_type=client_credentials&scope={SCOPE}\"\n",
    "headers = {'Content-Type': 'application/x-www-form-urlencoded'}\n",
    "response = requests.request(\"POST\", url, data=payload, headers=headers)\n",
    "SESSION_TOKEN = response.json()['access_token']\n",
    "SESSION_START_TIME = datetime.datetime.now()\n",
    "print(f\"Session started at {SESSION_START_TIME.strftime('%H:%M:%S')}\")\n",
    "print(f\"Session will end at {(SESSION_START_TIME + datetime.timedelta(hours=1)).strftime('%H:%M:%S')}\")"
   ]
  },
  {
   "cell_type": "code",
   "execution_count": 4,
   "id": "6af4cd47",
   "metadata": {},
   "outputs": [
    {
     "name": "stdout",
     "output_type": "stream",
     "text": [
      "Service is healthy\n"
     ]
    }
   ],
   "source": [
    "url = \"https://emsiservices.com/skills/status\"\n",
    "headers = {'Authorization': f'Bearer {SESSION_TOKEN}'}\n",
    "response = requests.request(\"GET\", url, headers=headers)\n",
    "print(response.json()['data']['message']) # Should print \"Service is healthy\""
   ]
  },
  {
   "cell_type": "markdown",
   "id": "d5ff1001",
   "metadata": {},
   "source": [
    "## Make Requests from Lightcast API"
   ]
  },
  {
   "cell_type": "code",
   "execution_count": 5,
   "id": "c5566e6e",
   "metadata": {},
   "outputs": [],
   "source": [
    "# INPUT YOUR QUERY HERE\n",
    "queries = ['data', 'analysis', 'machine learning', 'ML', 'statistic']"
   ]
  },
  {
   "cell_type": "code",
   "execution_count": 6,
   "id": "7f10ab4b",
   "metadata": {},
   "outputs": [
    {
     "name": "stdout",
     "output_type": "stream",
     "text": [
      "Time Elapsed: 6.996306896209717 seconds\n"
     ]
    }
   ],
   "source": [
    "skills = {}\n",
    "start_time = time()\n",
    "for query in queries:\n",
    "    url = \"https://emsiservices.com/skills/versions/latest/skills\"\n",
    "    querystring = {\"q\":f\"{query}\",\"typeIds\":\"ST1,ST2\",\"fields\":\"id,name,type,infoUrl\"}#,\"limit\":\"100\"}\n",
    "    headers = {'Authorization': f'Bearer {SESSION_TOKEN}'}\n",
    "    response = requests.request(\"GET\", url, headers=headers, params=querystring)\n",
    "    data = response.json()\n",
    "    skills[query] = sorted([meta_data['name'] for meta_data in data['data']])\n",
    "print(f\"Time Elapsed: {time() - start_time} seconds\")"
   ]
  },
  {
   "cell_type": "code",
   "execution_count": 7,
   "id": "cd72a35a",
   "metadata": {},
   "outputs": [
    {
     "data": {
      "text/html": [
       "<div>\n",
       "<style scoped>\n",
       "    .dataframe tbody tr th:only-of-type {\n",
       "        vertical-align: middle;\n",
       "    }\n",
       "\n",
       "    .dataframe tbody tr th {\n",
       "        vertical-align: top;\n",
       "    }\n",
       "\n",
       "    .dataframe thead th {\n",
       "        text-align: right;\n",
       "    }\n",
       "</style>\n",
       "<table border=\"1\" class=\"dataframe\">\n",
       "  <thead>\n",
       "    <tr style=\"text-align: right;\">\n",
       "      <th></th>\n",
       "      <th>query</th>\n",
       "      <th>skill</th>\n",
       "    </tr>\n",
       "  </thead>\n",
       "  <tbody>\n",
       "    <tr>\n",
       "      <th>0</th>\n",
       "      <td>data</td>\n",
       "      <td>ADOdb Database Abstraction Library For PHP</td>\n",
       "    </tr>\n",
       "    <tr>\n",
       "      <th>1</th>\n",
       "      <td>data</td>\n",
       "      <td>ATLAS.ti (Qualitative Data Analysis Software)</td>\n",
       "    </tr>\n",
       "    <tr>\n",
       "      <th>2</th>\n",
       "      <td>data</td>\n",
       "      <td>Abstract Data Types</td>\n",
       "    </tr>\n",
       "    <tr>\n",
       "      <th>3</th>\n",
       "      <td>data</td>\n",
       "      <td>ActiveX Data Objects</td>\n",
       "    </tr>\n",
       "    <tr>\n",
       "      <th>4</th>\n",
       "      <td>data</td>\n",
       "      <td>Adobe LiveCycle Data Services (Software)</td>\n",
       "    </tr>\n",
       "    <tr>\n",
       "      <th>...</th>\n",
       "      <td>...</td>\n",
       "      <td>...</td>\n",
       "    </tr>\n",
       "    <tr>\n",
       "      <th>1085</th>\n",
       "      <td>statistic</td>\n",
       "      <td>Statistical Time Division Multiplexing</td>\n",
       "    </tr>\n",
       "    <tr>\n",
       "      <th>1086</th>\n",
       "      <td>statistic</td>\n",
       "      <td>Statistics</td>\n",
       "    </tr>\n",
       "    <tr>\n",
       "      <th>1087</th>\n",
       "      <td>statistic</td>\n",
       "      <td>Tax Statistics</td>\n",
       "    </tr>\n",
       "    <tr>\n",
       "      <th>1088</th>\n",
       "      <td>statistic</td>\n",
       "      <td>Test Statistics</td>\n",
       "    </tr>\n",
       "    <tr>\n",
       "      <th>1089</th>\n",
       "      <td>statistic</td>\n",
       "      <td>Vital Statistics</td>\n",
       "    </tr>\n",
       "  </tbody>\n",
       "</table>\n",
       "<p>1090 rows × 2 columns</p>\n",
       "</div>"
      ],
      "text/plain": [
       "          query                                          skill\n",
       "0          data     ADOdb Database Abstraction Library For PHP\n",
       "1          data  ATLAS.ti (Qualitative Data Analysis Software)\n",
       "2          data                            Abstract Data Types\n",
       "3          data                           ActiveX Data Objects\n",
       "4          data       Adobe LiveCycle Data Services (Software)\n",
       "...         ...                                            ...\n",
       "1085  statistic         Statistical Time Division Multiplexing\n",
       "1086  statistic                                     Statistics\n",
       "1087  statistic                                 Tax Statistics\n",
       "1088  statistic                                Test Statistics\n",
       "1089  statistic                               Vital Statistics\n",
       "\n",
       "[1090 rows x 2 columns]"
      ]
     },
     "execution_count": 7,
     "metadata": {},
     "output_type": "execute_result"
    }
   ],
   "source": [
    "# Reformatting result into pandas dataframe\n",
    "skill_df = []\n",
    "for query, skill_list in skills.items():\n",
    "    for skill in skill_list:\n",
    "        skill_df.append((query, skill))\n",
    "skill_df = pd.DataFrame(skill_df, columns = ['query', 'skill'])\n",
    "skill_df"
   ]
  },
  {
   "cell_type": "code",
   "execution_count": 8,
   "id": "66e814f3",
   "metadata": {},
   "outputs": [
    {
     "name": "stdout",
     "output_type": "stream",
     "text": [
      "Saving to: C:/Users/ernes/Git/dsa3101-2220-12-ds/Data/skills/\n",
      "File: lightcast_skills_queries-data_analysis_machine learning_ML_statistic.csv\n",
      "\n",
      "Run next cell to save\n"
     ]
    }
   ],
   "source": [
    "# Save dataframe to project repo\n",
    "repo_path = \"C:/Users/ernes/Git/dsa3101-2220-12-ds/\"\n",
    "repo_data_path = repo_path + \"Data/skills/\"\n",
    "file_name = \"lightcast_skills_queries-\"\n",
    "for query in queries:\n",
    "    file_name += (query + '_')\n",
    "file_name = file_name[:-1] + \".csv\"\n",
    "print(f\"Saving to: {repo_data_path}\\nFile: {file_name}\\n\\nRun next cell to save\")"
   ]
  },
  {
   "cell_type": "code",
   "execution_count": 9,
   "id": "2d53a3a9",
   "metadata": {},
   "outputs": [],
   "source": [
    "skill_df.to_csv(repo_data_path + file_name, index = False)"
   ]
  },
  {
   "cell_type": "code",
   "execution_count": null,
   "id": "478b28f3",
   "metadata": {},
   "outputs": [],
   "source": []
  }
 ],
 "metadata": {
  "kernelspec": {
   "display_name": "Python 3 (ipykernel)",
   "language": "python",
   "name": "python3"
  },
  "language_info": {
   "codemirror_mode": {
    "name": "ipython",
    "version": 3
   },
   "file_extension": ".py",
   "mimetype": "text/x-python",
   "name": "python",
   "nbconvert_exporter": "python",
   "pygments_lexer": "ipython3",
   "version": "3.10.1"
  }
 },
 "nbformat": 4,
 "nbformat_minor": 5
}
